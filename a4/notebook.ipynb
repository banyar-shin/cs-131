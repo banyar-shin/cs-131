{
 "cells": [
  {
   "cell_type": "markdown",
   "id": "1ee608ff",
   "metadata": {},
   "source": [
    "## Name: Banyar Shin\n",
    "## Student ID: 017192422\n",
    "## CS-131 Assignment 4: Spark"
   ]
  },
  {
   "cell_type": "code",
   "execution_count": 9,
   "id": "9ffe101e",
   "metadata": {},
   "outputs": [],
   "source": [
    "from pyspark.sql import SparkSession\n",
    "from pyspark.ml.feature import VectorAssembler\n",
    "from pyspark.ml.regression import DecisionTreeRegressor\n",
    "from pyspark.ml import Pipeline\n",
    "from pyspark.ml.evaluation import RegressionEvaluator\n",
    "\n",
    "# create spark session\n",
    "spark = SparkSession.builder.appName(\"TaxiPrediction\").getOrCreate()"
   ]
  },
  {
   "cell_type": "code",
   "execution_count": 10,
   "id": "f7028959",
   "metadata": {},
   "outputs": [
    {
     "name": "stderr",
     "output_type": "stream",
     "text": [
      "                                                                                "
     ]
    },
    {
     "name": "stdout",
     "output_type": "stream",
     "text": [
      "First 10 entries of the selected dataset:\n",
      "+---------------+------------+------------+------------+\n",
      "|passenger_count|pulocationid|dolocationid|total_amount|\n",
      "+---------------+------------+------------+------------+\n",
      "|            1.0|       239.0|       239.0|         8.8|\n",
      "|            1.0|       230.0|       100.0|         8.3|\n",
      "|            1.0|        68.0|       127.0|       47.75|\n",
      "|            1.0|        68.0|        68.0|         7.3|\n",
      "|            1.0|        50.0|        42.0|       23.15|\n",
      "|            1.0|        95.0|       196.0|         9.8|\n",
      "|            1.0|       211.0|       211.0|         6.8|\n",
      "|            1.0|       237.0|       162.0|         7.8|\n",
      "|            1.0|       148.0|        37.0|        20.3|\n",
      "|            1.0|       265.0|       265.0|        0.31|\n",
      "+---------------+------------+------------+------------+\n",
      "only showing top 10 rows\n",
      "\n"
     ]
    }
   ],
   "source": [
    "# read the csv file\n",
    "df = spark.read.csv(\"gs://banyar-for-spark/2019-04.csv\", header=True, inferSchema=True)\n",
    "\n",
    "# select required columns\n",
    "selected_df = df.select(\"passenger_count\", \"pulocationid\", \"dolocationid\", \"total_amount\")\n",
    "\n",
    "# show first 10 entries\n",
    "print(\"First 10 entries of the selected dataset:\")\n",
    "selected_df.show(10)"
   ]
  },
  {
   "cell_type": "code",
   "execution_count": 11,
   "id": "d8049648",
   "metadata": {},
   "outputs": [
    {
     "name": "stderr",
     "output_type": "stream",
     "text": [
      "                                                                                "
     ]
    },
    {
     "name": "stdout",
     "output_type": "stream",
     "text": [
      "Training Dataset Count: 5204170\n"
     ]
    },
    {
     "name": "stderr",
     "output_type": "stream",
     "text": [
      "[Stage 32:===========================================>              (6 + 2) / 8]"
     ]
    },
    {
     "name": "stdout",
     "output_type": "stream",
     "text": [
      "Testing Dataset Count: 2228969\n"
     ]
    },
    {
     "name": "stderr",
     "output_type": "stream",
     "text": [
      "                                                                                "
     ]
    }
   ],
   "source": [
    "# create feature vector\n",
    "assembler = VectorAssembler(\n",
    "    inputCols=[\"passenger_count\", \"pulocationid\", \"dolocationid\"],\n",
    "    outputCol=\"features\"\n",
    ")\n",
    "\n",
    "# split data into training and testing sets (70-30 split)\n",
    "trainDF, testDF = selected_df.randomSplit([0.7, 0.3], seed=42)\n",
    "\n",
    "print(\"Training Dataset Count:\", trainDF.count())\n",
    "print(\"Testing Dataset Count:\", testDF.count())"
   ]
  },
  {
   "cell_type": "code",
   "execution_count": 12,
   "id": "f76a629c",
   "metadata": {},
   "outputs": [
    {
     "name": "stderr",
     "output_type": "stream",
     "text": [
      "                                                                                "
     ]
    },
    {
     "name": "stdout",
     "output_type": "stream",
     "text": [
      "Model training completed!\n"
     ]
    }
   ],
   "source": [
    "# create decision tree regressor\n",
    "dt = DecisionTreeRegressor(labelCol=\"total_amount\", featuresCol=\"features\")\n",
    "\n",
    "# create the pipeline\n",
    "pipeline = Pipeline(stages=[assembler, dt])\n",
    "\n",
    "# train the model\n",
    "model = pipeline.fit(trainDF)\n",
    "\n",
    "print(\"Model training completed!\")"
   ]
  },
  {
   "cell_type": "code",
   "execution_count": 13,
   "id": "cc4fad96",
   "metadata": {},
   "outputs": [
    {
     "name": "stdout",
     "output_type": "stream",
     "text": [
      "First 10 predictions with features:\n"
     ]
    },
    {
     "name": "stderr",
     "output_type": "stream",
     "text": [
      "[Stage 49:>                                                         (0 + 1) / 1]"
     ]
    },
    {
     "name": "stdout",
     "output_type": "stream",
     "text": [
      "+---------------+------------+------------+------------+------------------+\n",
      "|passenger_count|pulocationid|dolocationid|total_amount|        prediction|\n",
      "+---------------+------------+------------+------------+------------------+\n",
      "|            0.0|         1.0|         1.0|       103.3| 19.53938668555223|\n",
      "|            0.0|         4.0|         4.0|         6.8| 19.53938668555223|\n",
      "|            0.0|         4.0|        33.0|       31.55|15.796962845828443|\n",
      "|            0.0|         4.0|        49.0|        26.0|15.796962845828443|\n",
      "|            0.0|         4.0|        79.0|         7.8|15.796962845828443|\n",
      "|            0.0|         4.0|        79.0|        8.15|15.796962845828443|\n",
      "|            0.0|         4.0|        79.0|         8.8|15.796962845828443|\n",
      "|            0.0|         4.0|       107.0|        11.8|15.796962845828443|\n",
      "|            0.0|         4.0|       113.0|       12.85|15.796962845828443|\n",
      "|            0.0|         4.0|       144.0|        11.3|17.767105459370107|\n",
      "+---------------+------------+------------+------------+------------------+\n",
      "only showing top 10 rows\n",
      "\n"
     ]
    },
    {
     "name": "stderr",
     "output_type": "stream",
     "text": [
      "                                                                                "
     ]
    }
   ],
   "source": [
    "# make predictions on test data\n",
    "predictions = model.transform(testDF)\n",
    "\n",
    "# show predictions with features\n",
    "print(\"First 10 predictions with features:\")\n",
    "predictions.select(\"passenger_count\", \"pulocationid\", \"dolocationid\", \"total_amount\", \"prediction\").show(10)"
   ]
  },
  {
   "cell_type": "code",
   "execution_count": 14,
   "id": "99502bf2",
   "metadata": {},
   "outputs": [
    {
     "name": "stderr",
     "output_type": "stream",
     "text": [
      "[Stage 50:====================================>                     (5 + 3) / 8]"
     ]
    },
    {
     "name": "stdout",
     "output_type": "stream",
     "text": [
      "Root Mean Square Error (RMSE) = 12.13\n"
     ]
    },
    {
     "name": "stderr",
     "output_type": "stream",
     "text": [
      "                                                                                "
     ]
    }
   ],
   "source": [
    "# evaluate the model using RMSE\n",
    "evaluator = RegressionEvaluator(\n",
    "    labelCol=\"total_amount\",\n",
    "    predictionCol=\"prediction\",\n",
    "    metricName=\"rmse\"\n",
    ")\n",
    "\n",
    "rmse = evaluator.evaluate(predictions)\n",
    "print(f\"Root Mean Square Error (RMSE) = {rmse:.2f}\")"
   ]
  }
 ],
 "metadata": {
  "kernelspec": {
   "display_name": "CS-131 Spark on Serverless Spark (Remote)",
   "language": "python",
   "name": "9c39b79e5d2e7072beb4bd59-runtime-000013d6d87b"
  },
  "language_info": {
   "codemirror_mode": {
    "name": "ipython",
    "version": 3
   },
   "file_extension": ".py",
   "mimetype": "text/x-python",
   "name": "python",
   "nbconvert_exporter": "python",
   "pygments_lexer": "ipython3",
   "version": "3.12.3"
  }
 },
 "nbformat": 4,
 "nbformat_minor": 5
}
